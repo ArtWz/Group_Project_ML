{
 "cells": [
  {
   "cell_type": "code",
   "execution_count": 1,
   "id": "da4fef58-003c-4073-946a-cebc1aafb9e9",
   "metadata": {},
   "outputs": [],
   "source": [
    "import pandas as pd\n",
    "import numpy as np\n",
    "from sklearn.model_selection import train_test_split\n",
    "from sklearn.ensemble import RandomForestClassifier\n",
    "from sklearn.metrics import accuracy_score, classification_report,confusion_matrix,precision_score,recall_score,f1_score\n",
    "import joblib\n",
    "from sklearn.preprocessing import StandardScaler, OneHotEncoder,LabelEncoder\n",
    "import seaborn as sns\n",
    "import matplotlib.pyplot as plt\n",
    "from sklearn.model_selection import RandomizedSearchCV,StratifiedKFold\n",
    "from statsmodels.graphics.mosaicplot import mosaic\n",
    "from sklearn.feature_selection import mutual_info_classif\n",
    "from imblearn.combine import SMOTETomek\n",
    "from imblearn.under_sampling import TomekLinks\n",
    "from imblearn.pipeline import Pipeline, make_pipeline\n",
    "from imblearn.over_sampling import SMOTE\n",
    "from imblearn.over_sampling import ADASYN"
   ]
  },
  {
   "cell_type": "code",
   "execution_count": 2,
   "id": "c60e8e96-03cb-4a74-a9f0-d128beece45c",
   "metadata": {},
   "outputs": [],
   "source": [
    "features = [\n",
    "    \"duration\", \"protocol_type\", \"service\", \"flag\", \"src_bytes\", \"dst_bytes\", \"land\", \n",
    "    \"wrong_fragment\", \"urgent\", \"hot\", \"num_failed_logins\", \"logged_in\", \"num_compromised\", \n",
    "    \"root_shell\", \"su_attempted\", \"num_root\", \"num_file_creations\", \"num_shells\", \n",
    "    \"num_access_files\", \"num_outbound_cmds\", \"is_host_login\", \"is_guest_login\", \"count\", \n",
    "    \"srv_count\", \"serror_rate\", \"srv_serror_rate\", \"rerror_rate\", \"srv_rerror_rate\", \n",
    "    \"same_srv_rate\", \"diff_srv_rate\", \"srv_diff_host_rate\", \"dst_host_count\", \n",
    "    \"dst_host_srv_count\", \"dst_host_same_srv_rate\", \"dst_host_diff_srv_rate\", \n",
    "    \"dst_host_same_src_port_rate\", \"dst_host_srv_diff_host_rate\", \"dst_host_serror_rate\", \n",
    "    \"dst_host_srv_serror_rate\", \"dst_host_rerror_rate\", \"dst_host_srv_rerror_rate\",\"Label\"\n",
    "]\n",
    "\n",
    "training_data = pd.read_csv('/Users/younishubsey/desktop/kddcup.data_10_percent.csv',header = None)\n",
    "# giving the columns the feature names\n",
    "training_data.columns = features\n",
    "\n",
    "test_data = pd.read_csv('/Users/younishubsey/desktop/corrected.csv',header = None)\n",
    "test_data.columns = features"
   ]
  },
  {
   "cell_type": "code",
   "execution_count": 3,
   "id": "96ff8c60-deb6-48c8-87c5-d9901d822b6b",
   "metadata": {},
   "outputs": [
    {
     "name": "stdout",
     "output_type": "stream",
     "text": [
      "(292300, 42)\n"
     ]
    }
   ],
   "source": [
    "test_data = test_data[test_data[\"Label\"].isin(training_data[\"Label\"].unique())]\n",
    "print(test_data.shape)"
   ]
  },
  {
   "cell_type": "code",
   "execution_count": 5,
   "id": "bd267055-5755-451b-a75c-d03bb3adf1e6",
   "metadata": {},
   "outputs": [],
   "source": [
    "attack_categories={\n",
    "'normal.' : 'Normal',\n",
    "\n",
    "'back.' : 'DoS', 'land.' : 'DoS', 'neptune.' : 'DoS', 'pod.' : 'DoS', 'smurf.' : 'DoS','teardrop.' : 'DoS',\n",
    "\n",
    "'buffer_overflow.':'U2R', 'loadmodule.':'U2R', 'perl.':'U2R', 'rootkit.': 'U2R',\n",
    "\n",
    "'ftp_write.' : 'R2L' , 'guess_passwd.':'R2L', 'imap.':'R2L', 'multihop.':'R2L', 'phf.':'R2L', 'spy.':'R2L', 'warezclient.':'R2L', 'warezmaster.':'R2L',\n",
    "\n",
    "'ipsweep.':'Probing', 'nmap.':'Probing', 'portsweep.':'Probing', 'satan.': 'Probing'\n",
    "}\n",
    "\n",
    "training_data['attack_sections']=training_data['Label'].map(attack_categories)\n",
    "test_data['attack_sections']=test_data['Label'].map(attack_categories)"
   ]
  },
  {
   "cell_type": "code",
   "execution_count": 7,
   "id": "24818e4e-3919-46bd-bb92-732a85f1f4f7",
   "metadata": {},
   "outputs": [
    {
     "name": "stdout",
     "output_type": "stream",
     "text": [
      "attack_sections\n",
      "DoS        391458\n",
      "Normal      97278\n",
      "Probing      4107\n",
      "R2L          1126\n",
      "U2R            52\n",
      "Name: count, dtype: int64\n"
     ]
    }
   ],
   "source": [
    "# Applying attack category mapping\n",
    "training_data['attack_sections'] = training_data['Label'].map(attack_categories)\n",
    "test_data['attack_sections'] = test_data['Label'].map(attack_categories)\n",
    "\n",
    "# Check if mapping \n",
    "print(training_data['attack_sections'].value_counts())"
   ]
  },
  {
   "cell_type": "code",
   "execution_count": 11,
   "id": "4eae91ea-c22e-4ae8-8fc4-e95fd4f99028",
   "metadata": {},
   "outputs": [],
   "source": [
    "training_data = training_data[training_data['attack_sections'] != 'U2R']"
   ]
  },
  {
   "cell_type": "code",
   "execution_count": 13,
   "id": "408f2f03-a649-448d-b21c-4f97bb5d1a63",
   "metadata": {},
   "outputs": [],
   "source": [
    "test_data = test_data[test_data['attack_sections'] != 'U2R']"
   ]
  },
  {
   "cell_type": "code",
   "execution_count": 15,
   "id": "3dfb194e-0e84-4ca5-86c9-d3901963ce6f",
   "metadata": {},
   "outputs": [],
   "source": [
    "from sklearn.preprocessing import LabelEncoder\n",
    "our_categorical_columns = [\"Label\",\"attack_sections\"]\n",
    "label_encoder = LabelEncoder()\n",
    "for col in our_categorical_columns:\n",
    "    training_data[col]=label_encoder.fit_transform(training_data[col])\n",
    "    test_data[col] = label_encoder.transform(test_data[col])"
   ]
  },
  {
   "cell_type": "code",
   "execution_count": 17,
   "id": "88bb6953-cc76-4c7a-8ff0-e435211bce00",
   "metadata": {},
   "outputs": [
    {
     "name": "stdout",
     "output_type": "stream",
     "text": [
      "Final Training Shape: (493969, 120)\n",
      "Final Test Shape: (292261, 120)\n"
     ]
    }
   ],
   "source": [
    "from sklearn.preprocessing import OneHotEncoder\n",
    "categorical_features = [\"protocol_type\",\"service\", \"flag\"]\n",
    "encoder = OneHotEncoder(handle_unknown=\"ignore\", sparse_output=False)\n",
    "train_ohe = encoder.fit_transform(training_data[categorical_features])\n",
    "test_ohe = encoder.transform(test_data[categorical_features])\n",
    "\n",
    "train_encoded_df = pd.DataFrame(train_ohe, columns=encoder.get_feature_names_out(categorical_features))\n",
    "test_encoded_df = pd.DataFrame(test_ohe, columns=encoder.get_feature_names_out(categorical_features))\n",
    "\n",
    "training_data = training_data.drop(columns=categorical_features).reset_index(drop=True)\n",
    "test_data = test_data.drop(columns=categorical_features).reset_index(drop=True)\n",
    "\n",
    "training_data = pd.concat([training_data, train_encoded_df], axis=1)\n",
    "test_data = pd.concat([test_data, test_encoded_df], axis=1)\n",
    "\n",
    "print(\"Final Training Shape:\", training_data.shape)\n",
    "print(\"Final Test Shape:\", test_data.shape)"
   ]
  },
  {
   "cell_type": "code",
   "execution_count": 18,
   "id": "247cce3a-9aad-42c4-be6e-e6aeca8e5a49",
   "metadata": {},
   "outputs": [],
   "source": [
    "x_train =training_data.drop(columns=['Label','attack_sections'])\n",
    "y_train = training_data['attack_sections']\n",
    "x_test = test_data.drop(columns=['Label','attack_sections'])\n",
    "y_test = test_data['attack_sections']"
   ]
  },
  {
   "cell_type": "code",
   "execution_count": 19,
   "id": "66a86fd0-9bad-49f7-92a6-8438f1b8f3b1",
   "metadata": {},
   "outputs": [],
   "source": [
    "featuress_drop = [\n",
    "    \"num_compromised\", \"srv_serror_rate\", \"serror_rate\", \n",
    "    \"dst_host_srv_serror_rate\", \"srv_rerror_rate\", \"dst_host_rerror_rate\", \n",
    "    \"dst_host_srv_rerror_rate\",\"num_failed_logins\",\"logged_in\",\"root_shell\",\n",
    "                    \"su_attempted\",\"num_file_creations\",\"num_shells\",\n",
    "                    \"num_access_files\",\"is_guest_login\",\"num_root\",\"dst_host_same_srv_rate\",\n",
    "    \"dst_host_serror_rate\", \"hot\",\"land\",\"wrong_fragment\",\"urgent\",\"diff_srv_rate\",\"same_srv_rate\",\"srv_diff_host_rate\"\n",
    "    ,\"dst_host_srv_diff_host_rate\",\"rerror_rate\"#\"protocol_type\",\"flag\",\"service\" #\"protocol_type\",\"flag\",\"service\"\n",
    "]\n",
    "\n",
    "x_train_select = x_train.drop(columns=featuress_drop)\n",
    "x_test_select = x_test.drop(columns=featuress_drop)"
   ]
  },
  {
   "cell_type": "code",
   "execution_count": 20,
   "id": "4f6e65c1-9338-43c9-9f70-e3fcaf4422b3",
   "metadata": {},
   "outputs": [
    {
     "name": "stdout",
     "output_type": "stream",
     "text": [
      "attack_sections\n",
      "0    391458\n",
      "1     97278\n",
      "2      4107\n",
      "3      1126\n",
      "Name: count, dtype: int64\n"
     ]
    }
   ],
   "source": [
    "print(y_train.value_counts())"
   ]
  },
  {
   "cell_type": "code",
   "execution_count": 23,
   "id": "b95839f6-cf2a-4526-bfea-59b57b6d0019",
   "metadata": {},
   "outputs": [],
   "source": [
    "#smote_tomek = SMOTETomek(sampling_strategy = \"minority\",random_state=42)\n",
    "#X_resampled, y_resampled = smote_tomek.fit_resample(x_train_select, y_train)"
   ]
  },
  {
   "cell_type": "code",
   "execution_count": 26,
   "id": "18cc5d9e-8331-430b-893d-c94d35b7ec90",
   "metadata": {},
   "outputs": [],
   "source": [
    "from imblearn.over_sampling import RandomOverSampler\n",
    "\n",
    "oversampled = RandomOverSampler(sampling_strategy =\"minority\",random_state=42)\n",
    "X_resampled, y_resampled = oversampled.fit_resample(x_train_select, y_train)"
   ]
  },
  {
   "cell_type": "code",
   "execution_count": 28,
   "id": "bb02e603-adcd-446f-bef9-4faa040b9835",
   "metadata": {},
   "outputs": [
    {
     "data": {
      "text/plain": [
       "attack_sections\n",
       "0    391458\n",
       "3    391458\n",
       "1     97278\n",
       "2      4107\n",
       "Name: count, dtype: int64"
      ]
     },
     "execution_count": 28,
     "metadata": {},
     "output_type": "execute_result"
    }
   ],
   "source": [
    "y_resampled.value_counts()"
   ]
  },
  {
   "cell_type": "code",
   "execution_count": null,
   "id": "278f2057-de19-4f5d-a11f-23131fb91b3d",
   "metadata": {},
   "outputs": [],
   "source": []
  },
  {
   "cell_type": "code",
   "execution_count": 30,
   "id": "73a3690e-fa95-4eaa-bdd6-7256c8d334f5",
   "metadata": {},
   "outputs": [
    {
     "name": "stdout",
     "output_type": "stream",
     "text": [
      "\n",
      " Classification Report:\n",
      "\n",
      "              precision    recall  f1-score   support\n",
      "\n",
      "           0       1.00      1.00      1.00    223298\n",
      "           1       0.99      0.96      0.97     60593\n",
      "           2       0.90      0.93      0.92      2377\n",
      "           3       0.79      0.90      0.84      5993\n",
      "\n",
      "    accuracy                           0.99    292261\n",
      "   macro avg       0.92      0.95      0.93    292261\n",
      "weighted avg       0.99      0.99      0.99    292261\n",
      "\n",
      "\n",
      " accuracy: 0.9886\n"
     ]
    },
    {
     "data": {
      "image/png": "[encoded data removed]",
      "text/plain": [
       "<Figure size 800x600 with 2 Axes>"
      ]
     },
     "metadata": {},
     "output_type": "display_data"
    }
   ],
   "source": [
    "from xgboost import XGBClassifier\n",
    "import xgboost as xgb\n",
    "best_params = {\n",
    "    \"max_depth\": 1,               # Best tree depth\n",
    "    \"learning_rate\": 0.1,         # Best learning rate\n",
    "    \"n_estimators\": 230,          # Best number of trees\n",
    "    \"subsample\": 0.7,             # Best percentage of training data used per tree\n",
    "    \"colsample_bytree\": 0.7,      # Best percentage of features used per tree\n",
    "    \"reg_lambda\": 10,\n",
    "    \"reg_alpha\": 0.1,\n",
    "    #\"scale_pos_weight\": [5]\n",
    "}\n",
    "\n",
    "xgb_model = XGBClassifier(\n",
    "    **best_params,\n",
    "    objective=\"multi:softmax\",\n",
    "    eval_metric=\"mlogloss\",\n",
    "    random_state=42,\n",
    ")\n",
    "\n",
    "xgb_model.fit(X_resampled, y_resampled)\n",
    "\n",
    "from sklearn.metrics import classification_report, confusion_matrix, accuracy_score\n",
    "\n",
    "y_pred = xgb_model.predict(x_test_select)\n",
    "\n",
    "print(\"\\n Classification Report:\\n\")\n",
    "print(classification_report(y_test, y_pred))\n",
    "\n",
    "\n",
    "accuracy = accuracy_score(y_test, y_pred)\n",
    "print(f\"\\n accuracy: {accuracy:.4f}\")\n",
    "\n",
    "\n",
    "import seaborn as sns\n",
    "import matplotlib.pyplot as plt\n",
    "\n",
    "cm = confusion_matrix(y_test, y_pred)\n",
    "plt.figure(figsize=(8, 6))\n",
    "sns.heatmap(cm, annot=True, fmt=\"d\", cmap=\"Blues\", xticklabels=np.unique(y_test), yticklabels=np.unique(y_test))\n",
    "plt.xlabel(\"Predicted Label\")\n",
    "plt.ylabel(\"True Label\")\n",
    "plt.title(\"Confusion Matrix - XGBoost After Feature Selection\")\n",
    "plt.show()"
   ]
  },
  {
   "cell_type": "code",
   "execution_count": 31,
   "id": "268229b0-0ada-4ede-bb5d-97e466ea63f4",
   "metadata": {},
   "outputs": [
    {
     "name": "stdout",
     "output_type": "stream",
     "text": [
      " Random Forest Classification Report:\n",
      "\n",
      "              precision    recall  f1-score   support\n",
      "\n",
      "           0       1.00      0.97      0.99    223298\n",
      "           1       0.92      0.95      0.94     60593\n",
      "           2       0.31      1.00      0.47      2377\n",
      "           3       0.46      0.36      0.41      5993\n",
      "\n",
      "    accuracy                           0.96    292261\n",
      "   macro avg       0.67      0.82      0.70    292261\n",
      "weighted avg       0.97      0.96      0.96    292261\n",
      "\n"
     ]
    },
    {
     "data": {
      "image/png": "[encoded data removed]",
      "text/plain": [
       "<Figure size 800x600 with 2 Axes>"
      ]
     },
     "metadata": {},
     "output_type": "display_data"
    }
   ],
   "source": [
    "from sklearn.ensemble import RandomForestClassifier\n",
    "from sklearn.metrics import classification_report, confusion_matrix\n",
    "\n",
    "\n",
    "random_forest_model = RandomForestClassifier(\n",
    "    n_estimators=100,  \n",
    "    max_depth= 3,    #10,     \n",
    "    class_weight=\"balanced\",  \n",
    "    random_state=42,\n",
    "    n_jobs=-1,\n",
    "    bootstrap = True,\n",
    "    max_features = 'sqrt',\n",
    "    min_samples_leaf = 1,\n",
    "    min_samples_split = 2,\n",
    "    \n",
    ")\n",
    "\n",
    "\n",
    "random_forest_model.fit(X_resampled, y_resampled)\n",
    "\n",
    "\n",
    "y_pred_rf = random_forest_model.predict(x_test_select)\n",
    "\n",
    "\n",
    "print(\" Random Forest Classification Report:\\n\")\n",
    "print(classification_report(y_test, y_pred_rf))\n",
    "\n",
    "import seaborn as sns\n",
    "import matplotlib.pyplot as plt\n",
    "\n",
    "cm_rf = confusion_matrix(y_test, y_pred_rf)\n",
    "\n",
    "plt.figure(figsize=(8, 6))\n",
    "sns.heatmap(cm_rf, annot=True, fmt=\"d\", cmap=\"Blues\")\n",
    "plt.xlabel(\"Predicted Label\")\n",
    "plt.ylabel(\"True Label\")\n",
    "plt.title(\"Confusion Matrix - Random Forest\")\n",
    "plt.show()"
   ]
  },
  {
   "cell_type": "code",
   "execution_count": 34,
   "id": "2c8e8d78-2e6c-4089-b40c-e2b61e342a49",
   "metadata": {},
   "outputs": [],
   "source": [
    "from sklearn.model_selection import StratifiedKFold, GridSearchCV\n",
    "from sklearn.ensemble import RandomForestClassifier\n",
    "\n",
    "skf = StratifiedKFold(n_splits=5, shuffle=True, random_state=42)\n"
   ]
  },
  {
   "cell_type": "code",
   "execution_count": 35,
   "id": "8c6ea6ad-5c9e-4c37-9cd4-09ce39f05e1c",
   "metadata": {},
   "outputs": [],
   "source": [
    "rf_param_grid = {\n",
    "    \"n_estimators\": [100, 200, 300,500],  # Number of trees\n",
    "    \"max_depth\": [1,2,3, 5,8, 10],  # Depth of each tree\n",
    "    \"min_samples_split\": [2,3, 5, 10],  # Minimum samples needed to split a node\n",
    "    \"min_samples_leaf\": [1, 2, 4],  # Minimum samples in a leaf\n",
    "    \"max_features\": [\"sqrt\", \"log2\"],  # Number of features per split \n",
    "}\n",
    "\n",
    "rf_model = RandomForestClassifier(random_state=42, n_jobs=-1)\n",
    "\n"
   ]
  },
  {
   "cell_type": "code",
   "execution_count": null,
   "id": "d1914e90-c1af-4930-8920-06ffc1be9ef8",
   "metadata": {},
   "outputs": [
    {
     "name": "stdout",
     "output_type": "stream",
     "text": [
      "Fitting 5 folds for each of 576 candidates, totalling 2880 fits\n"
     ]
    }
   ],
   "source": [
    "rf_grid_search = GridSearchCV(\n",
    "    rf_model, \n",
    "    param_grid=rf_param_grid, \n",
    "    cv=skf,  \n",
    "    scoring=\"recall_macro\",  \n",
    "    verbose=2, \n",
    "    n_jobs=-1  \n",
    ")\n",
    "rf_grid_search.fit(X_resampled, y_resampled)\n",
    "print(\"Best RF Parameters:\", rf_grid_search.best_params_)"
   ]
  },
  {
   "cell_type": "code",
   "execution_count": null,
   "id": "30e28998-8f86-41a8-9292-0a210634a566",
   "metadata": {},
   "outputs": [],
   "source": [
    "rf_final = RandomForestClassifier(\n",
    "    max_depth=10, \n",
    "    max_features=\"log2\",\n",
    "    #class_weight = \"balanced\",\n",
    "    min_samples_leaf=15,\n",
    "    min_samples_split=10,\n",
    "    n_estimators=250,\n",
    "    random_state=42,\n",
    "    n_jobs=-1  \n",
    ")"
   ]
  },
  {
   "cell_type": "code",
   "execution_count": null,
   "id": "9d73a347-2e3e-4fd6-b173-4116a7050801",
   "metadata": {},
   "outputs": [],
   "source": [
    "rf_final.fit(X_resampled, y_resampled)"
   ]
  },
  {
   "cell_type": "code",
   "execution_count": null,
   "id": "44051da6-24f6-4dce-9145-931e44eed680",
   "metadata": {},
   "outputs": [],
   "source": [
    "y_pred = rf_final.predict(x_test_select)\n",
    "\n",
    "\n",
    "print(\"\\nClassification Report:\\n\", classification_report(y_test, y_pred))\n",
    "print(\"\\nAccuracy Score:\", accuracy_score(y_test, y_pred))"
   ]
  },
  {
   "cell_type": "code",
   "execution_count": null,
   "id": "774a02d0-25a3-4b99-afdd-566f4d57353a",
   "metadata": {},
   "outputs": [],
   "source": []
  }
 ],
 "metadata": {
  "kernelspec": {
   "display_name": "Python [conda env:base] *",
   "language": "python",
   "name": "conda-base-py"
  },
  "language_info": {
   "codemirror_mode": {
    "name": "ipython",
    "version": 3
   },
   "file_extension": ".py",
   "mimetype": "text/x-python",
   "name": "python",
   "nbconvert_exporter": "python",
   "pygments_lexer": "ipython3",
   "version": "3.12.7"
  }
 },
 "nbformat": 4,
 "nbformat_minor": 5
}
